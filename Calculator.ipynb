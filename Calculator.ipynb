{
 "cells": [
  {
   "cell_type": "code",
   "execution_count": 1,
   "id": "9b21b1a2",
   "metadata": {},
   "outputs": [],
   "source": [
    "import math"
   ]
  },
  {
   "cell_type": "code",
   "execution_count": 4,
   "id": "1068de25",
   "metadata": {},
   "outputs": [
    {
     "name": "stdout",
     "output_type": "stream",
     "text": [
      "Basic operations:\n",
      "1. Addition\n",
      "2. Subtraction\n",
      "3. Multiplication\n",
      "4. Division\n",
      "Please enter the first value: 20\n",
      "Please enter the second value: 5\n",
      "Please enter the option: 4\n",
      "The result of division is: 4.0\n"
     ]
    }
   ],
   "source": [
    "print(\"Basic operations:\")\n",
    "print(\"1. Addition\")\n",
    "print(\"2. Subtraction\")\n",
    "print(\"3. Multiplication\")\n",
    "print(\"4. Division\")\n",
    "\n",
    "# Input values\n",
    "num1 = float(input(\"Please enter the first value: \"))\n",
    "num2 = float(input(\"Please enter the second value: \"))\n",
    "option = int(input(\"Please enter the option: \"))\n",
    "if option== 1:\n",
    "    result = num1 + num2\n",
    "    print(f\"The result of addition is: {result}\")\n",
    "elif option == 2:\n",
    "    result = num1 - num2\n",
    "    print(f\"The result of subtraction is: {result}\")\n",
    "elif option == 3:\n",
    "    result = num1 * num2\n",
    "    print(f\"The result of multiplication is: {result}\")\n",
    "elif option == 4:\n",
    "    if num2 != 0:\n",
    "        result = num1 / num2\n",
    "        print(f\"The result of division is: {result}\")\n",
    "    else:\n",
    "        print(\"Division by zero is not allowed.\")\n",
    "else:\n",
    "    print(\"Invalid option selected.\")"
   ]
  },
  {
   "cell_type": "code",
   "execution_count": null,
   "id": "9f902fd8",
   "metadata": {},
   "outputs": [],
   "source": []
  }
 ],
 "metadata": {
  "kernelspec": {
   "display_name": "Python 3 (ipykernel)",
   "language": "python",
   "name": "python3"
  },
  "language_info": {
   "codemirror_mode": {
    "name": "ipython",
    "version": 3
   },
   "file_extension": ".py",
   "mimetype": "text/x-python",
   "name": "python",
   "nbconvert_exporter": "python",
   "pygments_lexer": "ipython3",
   "version": "3.11.4"
  }
 },
 "nbformat": 4,
 "nbformat_minor": 5
}
